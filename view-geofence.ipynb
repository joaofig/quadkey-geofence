{
 "cells": [
  {
   "cell_type": "code",
   "execution_count": null,
   "id": "a9836ebd-20cc-4a36-8e84-969589887dba",
   "metadata": {},
   "outputs": [],
   "source": []
  },
  {
   "cell_type": "code",
   "execution_count": null,
   "id": "8baad5af-8dd6-44cf-a895-1909ab60beca",
   "metadata": {},
   "outputs": [],
   "source": [
    "import folium\n",
    "\n",
    "from db.api import BaseDb\n",
    "from folium.vector_layers import PolyLine, CircleMarker\n",
    "from pyquadkey2 import quadkey\n",
    "from pyquadkey2.quadkey import TileAnchor, QuadKey\n",
    "from folium.vector_layers import PolyLine, CircleMarker"
   ]
  },
  {
   "cell_type": "code",
   "execution_count": null,
   "id": "f60bdf24-beaf-45b2-8b7c-7fecdfd13134",
   "metadata": {},
   "outputs": [],
   "source": [
    "class AreaDb(BaseDb):\n",
    "\n",
    "    def __init__(self, folder='./data', file_name='qk-fences.db'):\n",
    "        super().__init__(folder=folder, file_name=file_name)\n",
    "\n",
    "    def get_level_qks(self, fence_id, level):\n",
    "        sql = \"select square_qk from geo_square where fence_id = ? and square_level = ?;\"\n",
    "        return [p[0] for p in self.query(sql, [fence_id, level])]"
   ]
  },
  {
   "cell_type": "code",
   "execution_count": null,
   "id": "c8d13e80-43a6-4dbe-b80f-8e2617db3d82",
   "metadata": {},
   "outputs": [],
   "source": []
  },
  {
   "cell_type": "code",
   "execution_count": null,
   "id": "a65be83f-34ce-47f6-9f9b-3cc57f3f3afa",
   "metadata": {},
   "outputs": [],
   "source": [
    "def qk_to_str(qk, level):\n",
    "    s = \"\"\n",
    "    for i in range(level):\n",
    "        shift = (level - i - 1) * 2\n",
    "        mask = 3 << shift\n",
    "        val = (qk & mask) >> shift\n",
    "        s = s + chr(ord('0') + val)\n",
    "    return s"
   ]
  },
  {
   "cell_type": "code",
   "execution_count": null,
   "id": "5ce1616d-c827-4808-a84b-dde1c7ac1cbd",
   "metadata": {},
   "outputs": [],
   "source": []
  },
  {
   "cell_type": "code",
   "execution_count": null,
   "id": "7c7d10ac-2623-41cf-bf7a-0f8b8d310958",
   "metadata": {},
   "outputs": [],
   "source": []
  },
  {
   "cell_type": "code",
   "execution_count": null,
   "id": "086f702e-3cc8-428b-b680-674d3b425427",
   "metadata": {},
   "outputs": [],
   "source": [
    "db = AreaDb()"
   ]
  },
  {
   "cell_type": "code",
   "execution_count": null,
   "id": "450d6e75-ca71-4406-b3f3-7bffe25fcef1",
   "metadata": {},
   "outputs": [],
   "source": [
    "qks = {level: db.get_level_qks(1, level) for level in range(9, 18)}"
   ]
  },
  {
   "cell_type": "code",
   "execution_count": null,
   "id": "d6e9f0a5-0f5b-4927-a791-0670dde82756",
   "metadata": {},
   "outputs": [],
   "source": []
  },
  {
   "cell_type": "code",
   "execution_count": null,
   "id": "d17f94f6-499b-4cb9-8574-ad145a260320",
   "metadata": {},
   "outputs": [],
   "source": [
    "def create_map_polygon(xy, tooltip='',\n",
    "                       color='#3388ff',\n",
    "                       opacity=0.7,\n",
    "                       fill_color='#3388ff',\n",
    "                       fill_opacity=0.4, \n",
    "                       weight=3):\n",
    "    points = [[x[0], x[1]] for x in xy]\n",
    "    polygon = folium.vector_layers.Polygon(locations=points,\n",
    "                                           tooltip=tooltip,\n",
    "                                           fill=True,\n",
    "                                           color=color,\n",
    "                                           fill_color=fill_color,\n",
    "                                           fill_opacity=fill_opacity,\n",
    "                                           weight=weight,\n",
    "                                           opacity=opacity)\n",
    "    return polygon"
   ]
  },
  {
   "cell_type": "code",
   "execution_count": null,
   "id": "26d8c838-84b7-4a99-a654-0e2ffaa737a4",
   "metadata": {},
   "outputs": [],
   "source": []
  },
  {
   "cell_type": "code",
   "execution_count": null,
   "id": "e54f4a08-9e32-41a8-a149-1e44d130ca20",
   "metadata": {},
   "outputs": [],
   "source": [
    "def create_map_quadkey(qk, tooltip='',\n",
    "                       color='#3388ff',\n",
    "                       opacity=0.7,\n",
    "                       fill_color='#3388ff',\n",
    "                       fill_opacity=0.4, \n",
    "                       weight=3):\n",
    "    sw = qk.to_geo(anchor=TileAnchor.ANCHOR_SW)\n",
    "    ne = qk.to_geo(anchor=TileAnchor.ANCHOR_NE)\n",
    "    s, w = sw[0], sw[1]\n",
    "    n, e = ne[0], ne[1]\n",
    "    points = [[n, e], [s, e], [s, w], [n, w]]\n",
    "    return create_map_polygon(points, tooltip=tooltip, \n",
    "                              color=color, opacity=opacity, \n",
    "                              fill_color=fill_color, fill_opacity=fill_opacity,\n",
    "                              weight=weight)"
   ]
  },
  {
   "cell_type": "code",
   "execution_count": null,
   "id": "9e18d6cd-54fd-42af-a517-19750f896638",
   "metadata": {},
   "outputs": [],
   "source": []
  },
  {
   "cell_type": "code",
   "execution_count": null,
   "id": "31c6cae3-a43d-49a0-8b1d-78d2a1e8cb52",
   "metadata": {},
   "outputs": [],
   "source": [
    "html_map = folium.Map(prefer_canvas=True, control_scale=True, \n",
    "                      max_zoom=18, tiles=\"cartodbpositron\")\n",
    "\n",
    "for level, quadkeys in qks.items():\n",
    "    qk_list = [quadkey.from_str(qk_to_str(qk, level)) for qk in quadkeys]\n",
    "\n",
    "    for qk in qk_list:\n",
    "        create_map_quadkey(qk).add_to(html_map)\n",
    "    \n",
    "html_map"
   ]
  },
  {
   "cell_type": "code",
   "execution_count": null,
   "id": "1471682e-4ef1-4a9c-acb3-ea43ddb5dc70",
   "metadata": {},
   "outputs": [],
   "source": []
  }
 ],
 "metadata": {
  "kernelspec": {
   "display_name": "Python 3 (ipykernel)",
   "language": "python",
   "name": "python3"
  },
  "language_info": {
   "codemirror_mode": {
    "name": "ipython",
    "version": 3
   },
   "file_extension": ".py",
   "mimetype": "text/x-python",
   "name": "python",
   "nbconvert_exporter": "python",
   "pygments_lexer": "ipython3",
   "version": "3.10.4"
  }
 },
 "nbformat": 4,
 "nbformat_minor": 5
}
